{
 "cells": [
  {
   "cell_type": "markdown",
   "id": "26ca58d3-ceac-4be4-8e99-1a3886532aff",
   "metadata": {},
   "source": [
    "# Boost up AI 2025: 신약 개발 경진대회 (GNN method)\n",
    "- 참가팀: dalcw\n",
    "- 참가자: 문성수\n",
    "- 소속: 전남대학교(휴학)"
   ]
  },
  {
   "cell_type": "markdown",
   "id": "a1be5f1b-9a71-48aa-8337-2d17fc55674e",
   "metadata": {},
   "source": [
    "## Install Library\n",
    "- torch\n",
    "- torch_geometric\n",
    "- pandas\n",
    "- numpy\n",
    "- tqdm\n",
    "- rdkit"
   ]
  },
  {
   "cell_type": "code",
   "execution_count": 1,
   "id": "2f31fa18-899b-4d32-a23b-eee11e8823cf",
   "metadata": {},
   "outputs": [],
   "source": [
    "# library import\n",
    "from rdkit import Chem\n",
    "from rdkit.Chem import Descriptors, Lipinski, rdMolDescriptors, MACCSkeys, AllChem, Crippen, QED\n",
    "from rdkit import RDLogger\n",
    "from rdkit.ML.Descriptors import MoleculeDescriptors\n",
    "\n",
    "import torch\n",
    "import torch.nn as nn\n",
    "import torch.nn.functional as F\n",
    "from torch.nn import Linear, Sequential, ReLU, LayerNorm, Dropout\n",
    "import torch.optim as optim\n",
    "from torch.utils.data import Dataset, DataLoader\n",
    "from torch_geometric.data import Data\n",
    "from torch_geometric.nn import GATConv, global_mean_pool, GINConv, AttentionalAggregation\n",
    "from torch_geometric.loader import DataLoader\n",
    "\n",
    "import numpy as np\n",
    "import pandas as pd\n",
    "import tqdm\n",
    "\n",
    "# 모든 경고 끄기\n",
    "RDLogger.DisableLog('rdApp.*')\n",
    "device = \"cuda:0\" if torch.cuda.is_available() else \"cpu\""
   ]
  },
  {
   "cell_type": "markdown",
   "id": "4a2c1d77-3ead-4ab1-9470-58a822531164",
   "metadata": {},
   "source": [
    "## Dataset load\n",
    "- 대회에서 제공하는 데이터만을 이용함"
   ]
  },
  {
   "cell_type": "code",
   "execution_count": 2,
   "id": "26d8803a-d81c-4d0a-b7b2-dd9005967e8d",
   "metadata": {},
   "outputs": [],
   "source": [
    "# train\n",
    "train = pd.read_csv(\"./main_data/train.csv\")"
   ]
  },
  {
   "cell_type": "markdown",
   "id": "3c96a15d-cf0c-41ce-9280-64e293a1da08",
   "metadata": {},
   "source": [
    "## Graph neural network method\n",
    "- using GIN model"
   ]
  },
  {
   "cell_type": "markdown",
   "id": "3b00f8c9-015a-4a42-aeec-5cf08dde76ea",
   "metadata": {},
   "source": [
    "## Feature extraction"
   ]
  },
  {
   "cell_type": "code",
   "execution_count": 3,
   "id": "2e4004ab-cdfd-4d1b-9b3f-fec9de33646a",
   "metadata": {},
   "outputs": [],
   "source": [
    "# 특징 추출기\n",
    "# 그래프 구조의 분자를 특징 단위로 추출하기\n",
    "def atom_to_feature(atom):\n",
    "    g_charge = float(atom.GetProp('_GasteigerCharge')) if atom.HasProp('_GasteigerCharge') else 0.0\n",
    "    return [\n",
    "        atom.GetAtomicNum(),\n",
    "        int(atom.GetIsAromatic()),\n",
    "        int(atom.GetHybridization() == Chem.HybridizationType.SP),\n",
    "        int(atom.GetHybridization() == Chem.HybridizationType.SP2),\n",
    "        int(atom.GetHybridization() == Chem.HybridizationType.SP3),\n",
    "        int(atom.GetHybridization() == Chem.HybridizationType.SP3D),\n",
    "        int(atom.GetHybridization() == Chem.HybridizationType.SP3D2),\n",
    "        atom.GetFormalCharge(),\n",
    "        int(atom.IsInRing()),\n",
    "        atom.GetTotalNumHs(),\n",
    "        atom.GetDegree(),\n",
    "        atom.GetImplicitValence(),\n",
    "        atom.GetNumExplicitHs(),\n",
    "        atom.GetNumImplicitHs(),\n",
    "        atom.GetMass(),\n",
    "        int(atom.GetIsotope()),\n",
    "        int(atom.GetChiralTag()),\n",
    "        int(atom.GetNoImplicit()),\n",
    "        int(atom.HasProp(\"_CIPCode\")),\n",
    "        g_charge,  # Gasteiger 전하\n",
    "        atom.GetNumRadicalElectrons(),  # 라디칼 전자 수\n",
    "        atom.GetTotalValence()\n",
    "    ]\n",
    "\n",
    "\n",
    "def global_feature_extractor(mol):\n",
    "    features = [\n",
    "        Descriptors.MolWt(mol),\n",
    "        Crippen.MolLogP(mol),\n",
    "        Descriptors.TPSA(mol),\n",
    "        Lipinski.NumRotatableBonds(mol),\n",
    "        Lipinski.NumHDonors(mol),\n",
    "        Lipinski.NumHAcceptors(mol),\n",
    "        rdMolDescriptors.CalcNumAromaticRings(mol),\n",
    "        rdMolDescriptors.CalcNumRings(mol),\n",
    "        rdMolDescriptors.CalcFractionCSP3(mol),\n",
    "        Descriptors.HeavyAtomCount(mol),\n",
    "        rdMolDescriptors.CalcLabuteASA(mol),                       # 접근 가능 표면적\n",
    "        Descriptors.MolMR(mol),                                    # 몰 굴절률\n",
    "        rdMolDescriptors.CalcExactMolWt(mol),                      # 정밀 분자량\n",
    "        Descriptors.NumValenceElectrons(mol),                      # 원자가 전자 수\n",
    "        len([a for a in mol.GetAtoms() if a.GetSymbol() == 'P'])   # 인(P) 원자 수\n",
    "    ]\n",
    "\n",
    "    return features"
   ]
  },
  {
   "cell_type": "code",
   "execution_count": 4,
   "id": "92a88f4b-fd33-4469-a793-6f383c76969d",
   "metadata": {},
   "outputs": [
    {
     "name": "stderr",
     "output_type": "stream",
     "text": [
      "100%|██████████| 1681/1681 [00:03<00:00, 442.90it/s]\n"
     ]
    }
   ],
   "source": [
    "# 그래프 생성 + 전역 정보 추출\n",
    "def smiles_to_graph_data(row, train=True):\n",
    "    mol = Chem.MolFromSmiles(row[\"Canonical_Smiles\"])\n",
    "    if mol is None:\n",
    "        raise ValueError(\"Invalid SMILES\")\n",
    "\n",
    "    # 노드 피처\n",
    "    x = torch.tensor([atom_to_feature(atom) for atom in mol.GetAtoms()], dtype=torch.float)\n",
    "        \n",
    "    # 엣지 정보\n",
    "    edge_index = []\n",
    "    for bond in mol.GetBonds():\n",
    "        i = bond.GetBeginAtomIdx()\n",
    "        j = bond.GetEndAtomIdx()\n",
    "        edge_index += [[i, j], [j, i]]\n",
    "    edge_index = torch.tensor(edge_index, dtype=torch.long).T\n",
    "\n",
    "    # 정답값\n",
    "    if train:\n",
    "        y = torch.tensor(row[\"Inhibition\"], dtype=torch.float)\n",
    "    else:\n",
    "        y = 0\n",
    "\n",
    "    # 전역 피처\n",
    "    global_x = global_feature_extractor(mol)\n",
    "    global_x = torch.tensor([global_feature_extractor(mol)], dtype=torch.float)\n",
    "\n",
    "    return Data(x=x, glo_x=global_x, edge_index=edge_index, y=y)\n",
    "    \n",
    "# train dataset\n",
    "train_graphs = []\n",
    "for _, row in tqdm.tqdm(train.iterrows(), total=len(train)):\n",
    "    try: train_graphs.append(smiles_to_graph_data(row))\n",
    "    except: pass\n",
    "\n",
    "train_loader = DataLoader(train_graphs, batch_size=128, shuffle=True)"
   ]
  },
  {
   "cell_type": "code",
   "execution_count": 5,
   "id": "091f6e9f-fc19-4f60-9366-6dcfa00668f0",
   "metadata": {},
   "outputs": [],
   "source": [
    "# 노드 특성 수집\n",
    "all_node_features = []\n",
    "for data in train_graphs:\n",
    "    all_node_features.append(data.x.cpu().numpy())\n",
    "all_node_features = np.concatenate(all_node_features, axis=0)  # shape (총 노드수, feat_dim)\n",
    "\n",
    "node_mean = all_node_features.mean(axis=0)\n",
    "node_std = all_node_features.std(axis=0)\n",
    "\n",
    "# 전역 특성 수집\n",
    "all_global_features = []\n",
    "for data in train_graphs:\n",
    "    all_global_features.append(data.glo_x.cpu().numpy())\n",
    "all_global_features = np.stack(all_global_features, axis=0)  # shape (num_graphs, global_feat_dim)\n",
    "\n",
    "global_mean = all_global_features.mean(axis=0)\n",
    "global_std = all_global_features.std(axis=0)\n",
    "\n",
    "\n",
    "def normalize_node_features(x, mean, std):\n",
    "    return (x - mean) / (std + 1e-8)\n",
    "\n",
    "def normalize_global_features(x, mean, std):\n",
    "    return (x - mean) / (std + 1e-8)\n",
    "\n",
    "for data in train_graphs:\n",
    "    data.x = torch.tensor(normalize_node_features(data.x.cpu().numpy(), node_mean, node_std), dtype=torch.float32).to(data.x.device)\n",
    "    data.glo_x = torch.tensor(normalize_global_features(data.glo_x.cpu().numpy(), global_mean, global_std), dtype=torch.float32).to(data.glo_x.device)"
   ]
  },
  {
   "cell_type": "markdown",
   "id": "f123f198-0d37-4fa6-975e-822e106fe83f",
   "metadata": {},
   "source": [
    "## Modeling"
   ]
  },
  {
   "cell_type": "code",
   "execution_count": 6,
   "id": "1e2c7a27-0f98-4978-82da-5d9fdc8fe1fe",
   "metadata": {},
   "outputs": [
    {
     "data": {
      "text/plain": [
       "tensor([[0.1481]], device='cuda:0', grad_fn=<AddmmBackward0>)"
      ]
     },
     "execution_count": 6,
     "metadata": {},
     "output_type": "execute_result"
    }
   ],
   "source": [
    "class SmileGIN(nn.Module):\n",
    "    def __init__(self, atom_dim, global_dim, hidden_dim, dropout=0):\n",
    "        super(SmileGIN, self).__init__()\n",
    "\n",
    "        # embedding block: graph + global\n",
    "        self.backbone = nn.ModuleDict({\n",
    "            \"atom_proj\": Linear(atom_dim, hidden_dim),\n",
    "            \"gin_layers\": nn.ModuleList([\n",
    "                GINConv(Sequential(\n",
    "                    Linear(hidden_dim, hidden_dim),\n",
    "                    ReLU(),\n",
    "                )) for _ in range(2)\n",
    "            ]),\n",
    "            \"norm\": LayerNorm(hidden_dim),\n",
    "            \"pool\": AttentionalAggregation(\n",
    "                gate_nn=Linear(hidden_dim, 1),\n",
    "                nn=Sequential(Linear(hidden_dim, hidden_dim), ReLU())\n",
    "            ),\n",
    "            \"global_embed\": nn.Sequential(\n",
    "                Linear(global_dim, hidden_dim),\n",
    "                LayerNorm(hidden_dim),\n",
    "                ReLU(),\n",
    "            )\n",
    "        })\n",
    "\n",
    "        self.embedding = Linear(hidden_dim * 3, 64)\n",
    "\n",
    "        # head block: fusion + regression\n",
    "        self.head = nn.Sequential(\n",
    "            Linear(64, 64),\n",
    "            nn.ReLU(),\n",
    "            Linear(64, 1)\n",
    "        )\n",
    "\n",
    "    def embedding_layer(self, graph_x, global_x, edge_index, batch):\n",
    "        # embedding: atom features → GIN → pooling\n",
    "        x = F.relu(self.backbone[\"atom_proj\"](graph_x))\n",
    "        for gin in self.backbone[\"gin_layers\"]:\n",
    "            x = x + gin(x, edge_index)\n",
    "        x = self.backbone[\"norm\"](x)\n",
    "        graph_feat = self.backbone[\"pool\"](x, batch)\n",
    "\n",
    "        # embedding: global features\n",
    "        global_feat = self.backbone[\"global_embed\"](global_x)\n",
    "\n",
    "        # fusion\n",
    "        fusion = graph_feat * global_feat\n",
    "        merged = torch.cat([graph_feat, global_feat, fusion], dim=1)\n",
    "        embedding = self.embedding(merged)\n",
    "        return embedding\n",
    "\n",
    "    def regression_layer(self, embedding):\n",
    "        return self.head(embedding)\n",
    "\n",
    "    def forward(self, graph_x, global_x, edge_index, batch):\n",
    "        embedding = self.embedding_layer(graph_x, global_x, edge_index, batch)\n",
    "        output = self.regression_layer(embedding)\n",
    "        return output\n",
    "\n",
    "model = SmileGIN(atom_dim=22, global_dim=15, hidden_dim=64).to(device)\n",
    "\n",
    "model(\n",
    "    train_graphs[0].x.to(device),\n",
    "    train_graphs[0].glo_x.to(device),\n",
    "    train_graphs[0].edge_index.to(device),\n",
    "    torch.zeros(train_graphs[0].num_nodes, dtype=torch.long).to(device)\n",
    ")"
   ]
  },
  {
   "cell_type": "markdown",
   "id": "176f98b6-08cc-48bb-9b95-54275ecddb9f",
   "metadata": {},
   "source": [
    "## Training"
   ]
  },
  {
   "cell_type": "code",
   "execution_count": 7,
   "id": "3b801b0c-c072-48f3-bad2-7ada896a8040",
   "metadata": {},
   "outputs": [],
   "source": [
    "def mixup_embeddings(h, y, alpha=0.3):\n",
    "    \"\"\" h: (B, D), y: (B,) \"\"\"\n",
    "    lam = np.random.beta(alpha, alpha)\n",
    "    index = torch.randperm(h.size(0))\n",
    "    h2 = h[index]\n",
    "    y2 = y[index]\n",
    "    h_mix = lam * h + (1 - lam) * h2\n",
    "    y_mix = lam * y + (1 - lam) * y2\n",
    "    return h_mix, y_mix"
   ]
  },
  {
   "cell_type": "code",
   "execution_count": 8,
   "id": "eb231eae-f2a2-4312-b3ff-5199c21bc440",
   "metadata": {
    "scrolled": true
   },
   "outputs": [
    {
     "name": "stderr",
     "output_type": "stream",
     "text": [
      "100%|██████████| 14/14 [00:00<00:00, 36.54it/s]\n"
     ]
    },
    {
     "name": "stdout",
     "output_type": "stream",
     "text": [
      "[Train Loss - Epoch: 1]\t1695.50245\n"
     ]
    },
    {
     "name": "stderr",
     "output_type": "stream",
     "text": [
      "100%|██████████| 14/14 [00:00<00:00, 60.24it/s]\n"
     ]
    },
    {
     "name": "stdout",
     "output_type": "stream",
     "text": [
      "[Train Loss - Epoch: 2]\t1621.55353\n"
     ]
    },
    {
     "name": "stderr",
     "output_type": "stream",
     "text": [
      "100%|██████████| 14/14 [00:00<00:00, 61.68it/s]\n"
     ]
    },
    {
     "name": "stdout",
     "output_type": "stream",
     "text": [
      "[Train Loss - Epoch: 3]\t1612.43089\n"
     ]
    },
    {
     "name": "stderr",
     "output_type": "stream",
     "text": [
      "100%|██████████| 14/14 [00:00<00:00, 60.13it/s]\n"
     ]
    },
    {
     "name": "stdout",
     "output_type": "stream",
     "text": [
      "[Train Loss - Epoch: 4]\t1672.84671\n"
     ]
    },
    {
     "name": "stderr",
     "output_type": "stream",
     "text": [
      "100%|██████████| 14/14 [00:00<00:00, 59.57it/s]\n"
     ]
    },
    {
     "name": "stdout",
     "output_type": "stream",
     "text": [
      "[Train Loss - Epoch: 5]\t1564.35744\n"
     ]
    },
    {
     "name": "stderr",
     "output_type": "stream",
     "text": [
      "100%|██████████| 14/14 [00:00<00:00, 58.28it/s]\n"
     ]
    },
    {
     "name": "stdout",
     "output_type": "stream",
     "text": [
      "[Train Loss - Epoch: 6]\t1484.45120\n"
     ]
    },
    {
     "name": "stderr",
     "output_type": "stream",
     "text": [
      "100%|██████████| 14/14 [00:00<00:00, 61.73it/s]\n"
     ]
    },
    {
     "name": "stdout",
     "output_type": "stream",
     "text": [
      "[Train Loss - Epoch: 7]\t1420.81787\n"
     ]
    },
    {
     "name": "stderr",
     "output_type": "stream",
     "text": [
      "100%|██████████| 14/14 [00:00<00:00, 58.85it/s]\n"
     ]
    },
    {
     "name": "stdout",
     "output_type": "stream",
     "text": [
      "[Train Loss - Epoch: 8]\t1334.91029\n"
     ]
    },
    {
     "name": "stderr",
     "output_type": "stream",
     "text": [
      "100%|██████████| 14/14 [00:00<00:00, 59.43it/s]\n"
     ]
    },
    {
     "name": "stdout",
     "output_type": "stream",
     "text": [
      "[Train Loss - Epoch: 9]\t1074.10828\n"
     ]
    },
    {
     "name": "stderr",
     "output_type": "stream",
     "text": [
      "100%|██████████| 14/14 [00:00<00:00, 61.32it/s]\n"
     ]
    },
    {
     "name": "stdout",
     "output_type": "stream",
     "text": [
      "[Train Loss - Epoch: 10]\t979.87333\n"
     ]
    },
    {
     "name": "stderr",
     "output_type": "stream",
     "text": [
      "100%|██████████| 14/14 [00:00<00:00, 64.01it/s]\n"
     ]
    },
    {
     "name": "stdout",
     "output_type": "stream",
     "text": [
      "[Train Loss - Epoch: 11]\t777.06402\n"
     ]
    },
    {
     "name": "stderr",
     "output_type": "stream",
     "text": [
      "100%|██████████| 14/14 [00:00<00:00, 62.64it/s]\n"
     ]
    },
    {
     "name": "stdout",
     "output_type": "stream",
     "text": [
      "[Train Loss - Epoch: 12]\t649.78654\n"
     ]
    },
    {
     "name": "stderr",
     "output_type": "stream",
     "text": [
      "100%|██████████| 14/14 [00:00<00:00, 65.87it/s]\n"
     ]
    },
    {
     "name": "stdout",
     "output_type": "stream",
     "text": [
      "[Train Loss - Epoch: 13]\t568.40991\n"
     ]
    },
    {
     "name": "stderr",
     "output_type": "stream",
     "text": [
      "100%|██████████| 14/14 [00:00<00:00, 64.46it/s]\n"
     ]
    },
    {
     "name": "stdout",
     "output_type": "stream",
     "text": [
      "[Train Loss - Epoch: 14]\t508.96485\n"
     ]
    },
    {
     "name": "stderr",
     "output_type": "stream",
     "text": [
      "100%|██████████| 14/14 [00:00<00:00, 60.51it/s]\n"
     ]
    },
    {
     "name": "stdout",
     "output_type": "stream",
     "text": [
      "[Train Loss - Epoch: 15]\t552.86294\n"
     ]
    },
    {
     "name": "stderr",
     "output_type": "stream",
     "text": [
      "100%|██████████| 14/14 [00:00<00:00, 64.36it/s]\n"
     ]
    },
    {
     "name": "stdout",
     "output_type": "stream",
     "text": [
      "[Train Loss - Epoch: 16]\t512.42367\n"
     ]
    },
    {
     "name": "stderr",
     "output_type": "stream",
     "text": [
      "100%|██████████| 14/14 [00:00<00:00, 60.68it/s]\n"
     ]
    },
    {
     "name": "stdout",
     "output_type": "stream",
     "text": [
      "[Train Loss - Epoch: 17]\t499.01110\n"
     ]
    },
    {
     "name": "stderr",
     "output_type": "stream",
     "text": [
      "100%|██████████| 14/14 [00:00<00:00, 60.87it/s]\n"
     ]
    },
    {
     "name": "stdout",
     "output_type": "stream",
     "text": [
      "[Train Loss - Epoch: 18]\t502.10459\n"
     ]
    },
    {
     "name": "stderr",
     "output_type": "stream",
     "text": [
      "100%|██████████| 14/14 [00:00<00:00, 59.16it/s]\n"
     ]
    },
    {
     "name": "stdout",
     "output_type": "stream",
     "text": [
      "[Train Loss - Epoch: 19]\t518.16650\n"
     ]
    },
    {
     "name": "stderr",
     "output_type": "stream",
     "text": [
      "100%|██████████| 14/14 [00:00<00:00, 59.76it/s]\n"
     ]
    },
    {
     "name": "stdout",
     "output_type": "stream",
     "text": [
      "[Train Loss - Epoch: 20]\t515.92695\n"
     ]
    },
    {
     "name": "stderr",
     "output_type": "stream",
     "text": [
      "100%|██████████| 14/14 [00:00<00:00, 69.99it/s]\n"
     ]
    },
    {
     "name": "stdout",
     "output_type": "stream",
     "text": [
      "[Train Loss - Epoch: 21]\t517.74540\n"
     ]
    },
    {
     "name": "stderr",
     "output_type": "stream",
     "text": [
      "100%|██████████| 14/14 [00:00<00:00, 66.45it/s]\n"
     ]
    },
    {
     "name": "stdout",
     "output_type": "stream",
     "text": [
      "[Train Loss - Epoch: 22]\t499.19716\n"
     ]
    },
    {
     "name": "stderr",
     "output_type": "stream",
     "text": [
      "100%|██████████| 14/14 [00:00<00:00, 60.41it/s]\n"
     ]
    },
    {
     "name": "stdout",
     "output_type": "stream",
     "text": [
      "[Train Loss - Epoch: 23]\t522.26166\n"
     ]
    },
    {
     "name": "stderr",
     "output_type": "stream",
     "text": [
      "100%|██████████| 14/14 [00:00<00:00, 64.57it/s]\n"
     ]
    },
    {
     "name": "stdout",
     "output_type": "stream",
     "text": [
      "[Train Loss - Epoch: 24]\t554.78002\n"
     ]
    },
    {
     "name": "stderr",
     "output_type": "stream",
     "text": [
      "100%|██████████| 14/14 [00:00<00:00, 63.12it/s]\n"
     ]
    },
    {
     "name": "stdout",
     "output_type": "stream",
     "text": [
      "[Train Loss - Epoch: 25]\t491.99649\n"
     ]
    },
    {
     "name": "stderr",
     "output_type": "stream",
     "text": [
      "100%|██████████| 14/14 [00:00<00:00, 53.28it/s]\n"
     ]
    },
    {
     "name": "stdout",
     "output_type": "stream",
     "text": [
      "[Train Loss - Epoch: 26]\t468.84478\n"
     ]
    },
    {
     "name": "stderr",
     "output_type": "stream",
     "text": [
      "100%|██████████| 14/14 [00:00<00:00, 61.74it/s]\n"
     ]
    },
    {
     "name": "stdout",
     "output_type": "stream",
     "text": [
      "[Train Loss - Epoch: 27]\t495.28319\n"
     ]
    },
    {
     "name": "stderr",
     "output_type": "stream",
     "text": [
      "100%|██████████| 14/14 [00:00<00:00, 61.80it/s]\n"
     ]
    },
    {
     "name": "stdout",
     "output_type": "stream",
     "text": [
      "[Train Loss - Epoch: 28]\t478.78910\n"
     ]
    },
    {
     "name": "stderr",
     "output_type": "stream",
     "text": [
      "100%|██████████| 14/14 [00:00<00:00, 61.97it/s]\n"
     ]
    },
    {
     "name": "stdout",
     "output_type": "stream",
     "text": [
      "[Train Loss - Epoch: 29]\t469.11237\n"
     ]
    },
    {
     "name": "stderr",
     "output_type": "stream",
     "text": [
      "100%|██████████| 14/14 [00:00<00:00, 60.92it/s]\n"
     ]
    },
    {
     "name": "stdout",
     "output_type": "stream",
     "text": [
      "[Train Loss - Epoch: 30]\t478.00648\n"
     ]
    },
    {
     "name": "stderr",
     "output_type": "stream",
     "text": [
      "100%|██████████| 14/14 [00:00<00:00, 61.48it/s]\n"
     ]
    },
    {
     "name": "stdout",
     "output_type": "stream",
     "text": [
      "[Train Loss - Epoch: 31]\t487.11269\n"
     ]
    },
    {
     "name": "stderr",
     "output_type": "stream",
     "text": [
      "100%|██████████| 14/14 [00:00<00:00, 63.73it/s]\n"
     ]
    },
    {
     "name": "stdout",
     "output_type": "stream",
     "text": [
      "[Train Loss - Epoch: 32]\t500.85899\n"
     ]
    },
    {
     "name": "stderr",
     "output_type": "stream",
     "text": [
      "100%|██████████| 14/14 [00:00<00:00, 63.11it/s]\n"
     ]
    },
    {
     "name": "stdout",
     "output_type": "stream",
     "text": [
      "[Train Loss - Epoch: 33]\t487.26521\n"
     ]
    },
    {
     "name": "stderr",
     "output_type": "stream",
     "text": [
      "100%|██████████| 14/14 [00:00<00:00, 61.72it/s]\n"
     ]
    },
    {
     "name": "stdout",
     "output_type": "stream",
     "text": [
      "[Train Loss - Epoch: 34]\t476.51468\n"
     ]
    },
    {
     "name": "stderr",
     "output_type": "stream",
     "text": [
      "100%|██████████| 14/14 [00:00<00:00, 64.03it/s]\n"
     ]
    },
    {
     "name": "stdout",
     "output_type": "stream",
     "text": [
      "[Train Loss - Epoch: 35]\t492.71873\n"
     ]
    },
    {
     "name": "stderr",
     "output_type": "stream",
     "text": [
      "100%|██████████| 14/14 [00:00<00:00, 68.70it/s]\n"
     ]
    },
    {
     "name": "stdout",
     "output_type": "stream",
     "text": [
      "[Train Loss - Epoch: 36]\t462.92436\n"
     ]
    },
    {
     "name": "stderr",
     "output_type": "stream",
     "text": [
      "100%|██████████| 14/14 [00:00<00:00, 63.15it/s]\n"
     ]
    },
    {
     "name": "stdout",
     "output_type": "stream",
     "text": [
      "[Train Loss - Epoch: 37]\t480.69007\n"
     ]
    },
    {
     "name": "stderr",
     "output_type": "stream",
     "text": [
      "100%|██████████| 14/14 [00:00<00:00, 62.52it/s]\n"
     ]
    },
    {
     "name": "stdout",
     "output_type": "stream",
     "text": [
      "[Train Loss - Epoch: 38]\t461.29638\n"
     ]
    },
    {
     "name": "stderr",
     "output_type": "stream",
     "text": [
      "100%|██████████| 14/14 [00:00<00:00, 62.43it/s]\n"
     ]
    },
    {
     "name": "stdout",
     "output_type": "stream",
     "text": [
      "[Train Loss - Epoch: 39]\t491.11789\n"
     ]
    },
    {
     "name": "stderr",
     "output_type": "stream",
     "text": [
      "100%|██████████| 14/14 [00:00<00:00, 61.28it/s]\n"
     ]
    },
    {
     "name": "stdout",
     "output_type": "stream",
     "text": [
      "[Train Loss - Epoch: 40]\t469.83847\n"
     ]
    },
    {
     "name": "stderr",
     "output_type": "stream",
     "text": [
      "100%|██████████| 14/14 [00:00<00:00, 61.65it/s]\n"
     ]
    },
    {
     "name": "stdout",
     "output_type": "stream",
     "text": [
      "[Train Loss - Epoch: 41]\t477.71583\n"
     ]
    },
    {
     "name": "stderr",
     "output_type": "stream",
     "text": [
      "100%|██████████| 14/14 [00:00<00:00, 60.70it/s]\n"
     ]
    },
    {
     "name": "stdout",
     "output_type": "stream",
     "text": [
      "[Train Loss - Epoch: 42]\t447.92171\n"
     ]
    },
    {
     "name": "stderr",
     "output_type": "stream",
     "text": [
      "100%|██████████| 14/14 [00:00<00:00, 64.27it/s]\n"
     ]
    },
    {
     "name": "stdout",
     "output_type": "stream",
     "text": [
      "[Train Loss - Epoch: 43]\t472.41763\n"
     ]
    },
    {
     "name": "stderr",
     "output_type": "stream",
     "text": [
      "100%|██████████| 14/14 [00:00<00:00, 63.35it/s]\n"
     ]
    },
    {
     "name": "stdout",
     "output_type": "stream",
     "text": [
      "[Train Loss - Epoch: 44]\t513.33366\n"
     ]
    },
    {
     "name": "stderr",
     "output_type": "stream",
     "text": [
      "100%|██████████| 14/14 [00:00<00:00, 59.45it/s]\n"
     ]
    },
    {
     "name": "stdout",
     "output_type": "stream",
     "text": [
      "[Train Loss - Epoch: 45]\t464.89739\n"
     ]
    },
    {
     "name": "stderr",
     "output_type": "stream",
     "text": [
      "100%|██████████| 14/14 [00:00<00:00, 64.64it/s]\n"
     ]
    },
    {
     "name": "stdout",
     "output_type": "stream",
     "text": [
      "[Train Loss - Epoch: 46]\t458.56215\n"
     ]
    },
    {
     "name": "stderr",
     "output_type": "stream",
     "text": [
      "100%|██████████| 14/14 [00:00<00:00, 60.87it/s]\n"
     ]
    },
    {
     "name": "stdout",
     "output_type": "stream",
     "text": [
      "[Train Loss - Epoch: 47]\t500.52063\n"
     ]
    },
    {
     "name": "stderr",
     "output_type": "stream",
     "text": [
      "100%|██████████| 14/14 [00:00<00:00, 61.86it/s]\n"
     ]
    },
    {
     "name": "stdout",
     "output_type": "stream",
     "text": [
      "[Train Loss - Epoch: 48]\t483.97919\n"
     ]
    },
    {
     "name": "stderr",
     "output_type": "stream",
     "text": [
      "100%|██████████| 14/14 [00:00<00:00, 62.41it/s]\n"
     ]
    },
    {
     "name": "stdout",
     "output_type": "stream",
     "text": [
      "[Train Loss - Epoch: 49]\t514.15308\n"
     ]
    },
    {
     "name": "stderr",
     "output_type": "stream",
     "text": [
      "100%|██████████| 14/14 [00:00<00:00, 61.37it/s]\n"
     ]
    },
    {
     "name": "stdout",
     "output_type": "stream",
     "text": [
      "[Train Loss - Epoch: 50]\t439.78538\n"
     ]
    },
    {
     "name": "stderr",
     "output_type": "stream",
     "text": [
      "100%|██████████| 14/14 [00:00<00:00, 61.30it/s]\n"
     ]
    },
    {
     "name": "stdout",
     "output_type": "stream",
     "text": [
      "[Train Loss - Epoch: 51]\t482.11544\n"
     ]
    },
    {
     "name": "stderr",
     "output_type": "stream",
     "text": [
      "100%|██████████| 14/14 [00:00<00:00, 61.01it/s]\n"
     ]
    },
    {
     "name": "stdout",
     "output_type": "stream",
     "text": [
      "[Train Loss - Epoch: 52]\t464.33586\n"
     ]
    },
    {
     "name": "stderr",
     "output_type": "stream",
     "text": [
      "100%|██████████| 14/14 [00:00<00:00, 62.28it/s]\n"
     ]
    },
    {
     "name": "stdout",
     "output_type": "stream",
     "text": [
      "[Train Loss - Epoch: 53]\t448.25654\n"
     ]
    },
    {
     "name": "stderr",
     "output_type": "stream",
     "text": [
      "100%|██████████| 14/14 [00:00<00:00, 60.75it/s]\n"
     ]
    },
    {
     "name": "stdout",
     "output_type": "stream",
     "text": [
      "[Train Loss - Epoch: 54]\t458.27455\n"
     ]
    },
    {
     "name": "stderr",
     "output_type": "stream",
     "text": [
      "100%|██████████| 14/14 [00:00<00:00, 64.14it/s]\n"
     ]
    },
    {
     "name": "stdout",
     "output_type": "stream",
     "text": [
      "[Train Loss - Epoch: 55]\t453.18012\n"
     ]
    },
    {
     "name": "stderr",
     "output_type": "stream",
     "text": [
      "100%|██████████| 14/14 [00:00<00:00, 63.64it/s]\n"
     ]
    },
    {
     "name": "stdout",
     "output_type": "stream",
     "text": [
      "[Train Loss - Epoch: 56]\t472.16274\n"
     ]
    },
    {
     "name": "stderr",
     "output_type": "stream",
     "text": [
      "100%|██████████| 14/14 [00:00<00:00, 66.11it/s]\n"
     ]
    },
    {
     "name": "stdout",
     "output_type": "stream",
     "text": [
      "[Train Loss - Epoch: 57]\t382.72807\n"
     ]
    },
    {
     "name": "stderr",
     "output_type": "stream",
     "text": [
      "100%|██████████| 14/14 [00:00<00:00, 64.38it/s]\n"
     ]
    },
    {
     "name": "stdout",
     "output_type": "stream",
     "text": [
      "[Train Loss - Epoch: 58]\t465.68879\n"
     ]
    },
    {
     "name": "stderr",
     "output_type": "stream",
     "text": [
      "100%|██████████| 14/14 [00:00<00:00, 62.30it/s]\n"
     ]
    },
    {
     "name": "stdout",
     "output_type": "stream",
     "text": [
      "[Train Loss - Epoch: 59]\t487.44297\n"
     ]
    },
    {
     "name": "stderr",
     "output_type": "stream",
     "text": [
      "100%|██████████| 14/14 [00:00<00:00, 62.80it/s]\n"
     ]
    },
    {
     "name": "stdout",
     "output_type": "stream",
     "text": [
      "[Train Loss - Epoch: 60]\t504.66940\n"
     ]
    },
    {
     "name": "stderr",
     "output_type": "stream",
     "text": [
      "100%|██████████| 14/14 [00:00<00:00, 60.68it/s]\n"
     ]
    },
    {
     "name": "stdout",
     "output_type": "stream",
     "text": [
      "[Train Loss - Epoch: 61]\t468.39469\n"
     ]
    },
    {
     "name": "stderr",
     "output_type": "stream",
     "text": [
      "100%|██████████| 14/14 [00:00<00:00, 62.15it/s]\n"
     ]
    },
    {
     "name": "stdout",
     "output_type": "stream",
     "text": [
      "[Train Loss - Epoch: 62]\t417.96581\n"
     ]
    },
    {
     "name": "stderr",
     "output_type": "stream",
     "text": [
      "100%|██████████| 14/14 [00:00<00:00, 62.46it/s]\n"
     ]
    },
    {
     "name": "stdout",
     "output_type": "stream",
     "text": [
      "[Train Loss - Epoch: 63]\t424.82277\n"
     ]
    },
    {
     "name": "stderr",
     "output_type": "stream",
     "text": [
      "100%|██████████| 14/14 [00:00<00:00, 60.49it/s]\n"
     ]
    },
    {
     "name": "stdout",
     "output_type": "stream",
     "text": [
      "[Train Loss - Epoch: 64]\t441.79819\n"
     ]
    },
    {
     "name": "stderr",
     "output_type": "stream",
     "text": [
      "100%|██████████| 14/14 [00:00<00:00, 64.35it/s]\n"
     ]
    },
    {
     "name": "stdout",
     "output_type": "stream",
     "text": [
      "[Train Loss - Epoch: 65]\t471.29223\n"
     ]
    },
    {
     "name": "stderr",
     "output_type": "stream",
     "text": [
      "100%|██████████| 14/14 [00:00<00:00, 64.84it/s]\n"
     ]
    },
    {
     "name": "stdout",
     "output_type": "stream",
     "text": [
      "[Train Loss - Epoch: 66]\t464.29193\n"
     ]
    },
    {
     "name": "stderr",
     "output_type": "stream",
     "text": [
      "100%|██████████| 14/14 [00:00<00:00, 63.64it/s]\n"
     ]
    },
    {
     "name": "stdout",
     "output_type": "stream",
     "text": [
      "[Train Loss - Epoch: 67]\t395.57597\n"
     ]
    },
    {
     "name": "stderr",
     "output_type": "stream",
     "text": [
      "100%|██████████| 14/14 [00:00<00:00, 65.05it/s]\n"
     ]
    },
    {
     "name": "stdout",
     "output_type": "stream",
     "text": [
      "[Train Loss - Epoch: 68]\t404.22004\n"
     ]
    },
    {
     "name": "stderr",
     "output_type": "stream",
     "text": [
      "100%|██████████| 14/14 [00:00<00:00, 58.74it/s]\n"
     ]
    },
    {
     "name": "stdout",
     "output_type": "stream",
     "text": [
      "[Train Loss - Epoch: 69]\t401.50018\n"
     ]
    },
    {
     "name": "stderr",
     "output_type": "stream",
     "text": [
      "100%|██████████| 14/14 [00:00<00:00, 62.36it/s]\n"
     ]
    },
    {
     "name": "stdout",
     "output_type": "stream",
     "text": [
      "[Train Loss - Epoch: 70]\t460.45662\n"
     ]
    },
    {
     "name": "stderr",
     "output_type": "stream",
     "text": [
      "100%|██████████| 14/14 [00:00<00:00, 61.72it/s]\n"
     ]
    },
    {
     "name": "stdout",
     "output_type": "stream",
     "text": [
      "[Train Loss - Epoch: 71]\t436.44714\n"
     ]
    },
    {
     "name": "stderr",
     "output_type": "stream",
     "text": [
      "100%|██████████| 14/14 [00:00<00:00, 61.95it/s]\n"
     ]
    },
    {
     "name": "stdout",
     "output_type": "stream",
     "text": [
      "[Train Loss - Epoch: 72]\t483.95712\n"
     ]
    },
    {
     "name": "stderr",
     "output_type": "stream",
     "text": [
      "100%|██████████| 14/14 [00:00<00:00, 61.25it/s]\n"
     ]
    },
    {
     "name": "stdout",
     "output_type": "stream",
     "text": [
      "[Train Loss - Epoch: 73]\t464.57282\n"
     ]
    },
    {
     "name": "stderr",
     "output_type": "stream",
     "text": [
      "100%|██████████| 14/14 [00:00<00:00, 60.69it/s]\n"
     ]
    },
    {
     "name": "stdout",
     "output_type": "stream",
     "text": [
      "[Train Loss - Epoch: 74]\t461.69831\n"
     ]
    },
    {
     "name": "stderr",
     "output_type": "stream",
     "text": [
      "100%|██████████| 14/14 [00:00<00:00, 62.06it/s]\n"
     ]
    },
    {
     "name": "stdout",
     "output_type": "stream",
     "text": [
      "[Train Loss - Epoch: 75]\t459.20649\n"
     ]
    },
    {
     "name": "stderr",
     "output_type": "stream",
     "text": [
      "100%|██████████| 14/14 [00:00<00:00, 63.07it/s]\n"
     ]
    },
    {
     "name": "stdout",
     "output_type": "stream",
     "text": [
      "[Train Loss - Epoch: 76]\t425.43730\n"
     ]
    },
    {
     "name": "stderr",
     "output_type": "stream",
     "text": [
      "100%|██████████| 14/14 [00:00<00:00, 64.43it/s]\n"
     ]
    },
    {
     "name": "stdout",
     "output_type": "stream",
     "text": [
      "[Train Loss - Epoch: 77]\t447.51850\n"
     ]
    },
    {
     "name": "stderr",
     "output_type": "stream",
     "text": [
      "100%|██████████| 14/14 [00:00<00:00, 71.97it/s]\n"
     ]
    },
    {
     "name": "stdout",
     "output_type": "stream",
     "text": [
      "[Train Loss - Epoch: 78]\t404.87502\n"
     ]
    },
    {
     "name": "stderr",
     "output_type": "stream",
     "text": [
      "100%|██████████| 14/14 [00:00<00:00, 58.29it/s]\n"
     ]
    },
    {
     "name": "stdout",
     "output_type": "stream",
     "text": [
      "[Train Loss - Epoch: 79]\t425.30629\n"
     ]
    },
    {
     "name": "stderr",
     "output_type": "stream",
     "text": [
      "100%|██████████| 14/14 [00:00<00:00, 61.19it/s]\n"
     ]
    },
    {
     "name": "stdout",
     "output_type": "stream",
     "text": [
      "[Train Loss - Epoch: 80]\t423.15430\n"
     ]
    },
    {
     "name": "stderr",
     "output_type": "stream",
     "text": [
      "100%|██████████| 14/14 [00:00<00:00, 64.00it/s]\n"
     ]
    },
    {
     "name": "stdout",
     "output_type": "stream",
     "text": [
      "[Train Loss - Epoch: 81]\t470.63121\n"
     ]
    },
    {
     "name": "stderr",
     "output_type": "stream",
     "text": [
      "100%|██████████| 14/14 [00:00<00:00, 62.22it/s]\n"
     ]
    },
    {
     "name": "stdout",
     "output_type": "stream",
     "text": [
      "[Train Loss - Epoch: 82]\t492.92881\n"
     ]
    },
    {
     "name": "stderr",
     "output_type": "stream",
     "text": [
      "100%|██████████| 14/14 [00:00<00:00, 64.72it/s]\n"
     ]
    },
    {
     "name": "stdout",
     "output_type": "stream",
     "text": [
      "[Train Loss - Epoch: 83]\t403.61013\n"
     ]
    },
    {
     "name": "stderr",
     "output_type": "stream",
     "text": [
      "100%|██████████| 14/14 [00:00<00:00, 62.58it/s]\n"
     ]
    },
    {
     "name": "stdout",
     "output_type": "stream",
     "text": [
      "[Train Loss - Epoch: 84]\t422.61800\n"
     ]
    },
    {
     "name": "stderr",
     "output_type": "stream",
     "text": [
      "100%|██████████| 14/14 [00:00<00:00, 60.26it/s]\n"
     ]
    },
    {
     "name": "stdout",
     "output_type": "stream",
     "text": [
      "[Train Loss - Epoch: 85]\t457.95210\n"
     ]
    },
    {
     "name": "stderr",
     "output_type": "stream",
     "text": [
      "100%|██████████| 14/14 [00:00<00:00, 61.65it/s]\n"
     ]
    },
    {
     "name": "stdout",
     "output_type": "stream",
     "text": [
      "[Train Loss - Epoch: 86]\t431.69734\n"
     ]
    },
    {
     "name": "stderr",
     "output_type": "stream",
     "text": [
      "100%|██████████| 14/14 [00:00<00:00, 63.09it/s]\n"
     ]
    },
    {
     "name": "stdout",
     "output_type": "stream",
     "text": [
      "[Train Loss - Epoch: 87]\t408.05556\n"
     ]
    },
    {
     "name": "stderr",
     "output_type": "stream",
     "text": [
      "100%|██████████| 14/14 [00:00<00:00, 64.73it/s]\n"
     ]
    },
    {
     "name": "stdout",
     "output_type": "stream",
     "text": [
      "[Train Loss - Epoch: 88]\t424.38277\n"
     ]
    },
    {
     "name": "stderr",
     "output_type": "stream",
     "text": [
      "100%|██████████| 14/14 [00:00<00:00, 63.92it/s]\n"
     ]
    },
    {
     "name": "stdout",
     "output_type": "stream",
     "text": [
      "[Train Loss - Epoch: 89]\t431.10311\n"
     ]
    },
    {
     "name": "stderr",
     "output_type": "stream",
     "text": [
      "100%|██████████| 14/14 [00:00<00:00, 60.01it/s]\n"
     ]
    },
    {
     "name": "stdout",
     "output_type": "stream",
     "text": [
      "[Train Loss - Epoch: 90]\t433.56163\n"
     ]
    },
    {
     "name": "stderr",
     "output_type": "stream",
     "text": [
      "100%|██████████| 14/14 [00:00<00:00, 69.64it/s]\n"
     ]
    },
    {
     "name": "stdout",
     "output_type": "stream",
     "text": [
      "[Train Loss - Epoch: 91]\t468.05026\n"
     ]
    },
    {
     "name": "stderr",
     "output_type": "stream",
     "text": [
      "100%|██████████| 14/14 [00:00<00:00, 62.64it/s]\n"
     ]
    },
    {
     "name": "stdout",
     "output_type": "stream",
     "text": [
      "[Train Loss - Epoch: 92]\t433.98140\n"
     ]
    },
    {
     "name": "stderr",
     "output_type": "stream",
     "text": [
      "100%|██████████| 14/14 [00:00<00:00, 61.62it/s]\n"
     ]
    },
    {
     "name": "stdout",
     "output_type": "stream",
     "text": [
      "[Train Loss - Epoch: 93]\t417.84295\n"
     ]
    },
    {
     "name": "stderr",
     "output_type": "stream",
     "text": [
      "100%|██████████| 14/14 [00:00<00:00, 62.35it/s]\n"
     ]
    },
    {
     "name": "stdout",
     "output_type": "stream",
     "text": [
      "[Train Loss - Epoch: 94]\t451.39547\n"
     ]
    },
    {
     "name": "stderr",
     "output_type": "stream",
     "text": [
      "100%|██████████| 14/14 [00:00<00:00, 62.50it/s]\n"
     ]
    },
    {
     "name": "stdout",
     "output_type": "stream",
     "text": [
      "[Train Loss - Epoch: 95]\t408.50362\n"
     ]
    },
    {
     "name": "stderr",
     "output_type": "stream",
     "text": [
      "100%|██████████| 14/14 [00:00<00:00, 60.77it/s]\n"
     ]
    },
    {
     "name": "stdout",
     "output_type": "stream",
     "text": [
      "[Train Loss - Epoch: 96]\t475.38767\n"
     ]
    },
    {
     "name": "stderr",
     "output_type": "stream",
     "text": [
      "100%|██████████| 14/14 [00:00<00:00, 62.36it/s]\n"
     ]
    },
    {
     "name": "stdout",
     "output_type": "stream",
     "text": [
      "[Train Loss - Epoch: 97]\t438.40037\n"
     ]
    },
    {
     "name": "stderr",
     "output_type": "stream",
     "text": [
      "100%|██████████| 14/14 [00:00<00:00, 64.73it/s]\n"
     ]
    },
    {
     "name": "stdout",
     "output_type": "stream",
     "text": [
      "[Train Loss - Epoch: 98]\t433.31975\n"
     ]
    },
    {
     "name": "stderr",
     "output_type": "stream",
     "text": [
      "100%|██████████| 14/14 [00:00<00:00, 70.86it/s]\n"
     ]
    },
    {
     "name": "stdout",
     "output_type": "stream",
     "text": [
      "[Train Loss - Epoch: 99]\t442.75444\n"
     ]
    },
    {
     "name": "stderr",
     "output_type": "stream",
     "text": [
      "100%|██████████| 14/14 [00:00<00:00, 84.56it/s]"
     ]
    },
    {
     "name": "stdout",
     "output_type": "stream",
     "text": [
      "[Train Loss - Epoch: 100]\t373.08113\n"
     ]
    },
    {
     "name": "stderr",
     "output_type": "stream",
     "text": [
      "\n"
     ]
    }
   ],
   "source": [
    "# optimizer\n",
    "optimizer = optim.AdamW(model.parameters(), lr=0.0001)\n",
    "\n",
    "# epoch\n",
    "epochs = 100\n",
    "\n",
    "for epoch in range(epochs):\n",
    "    total_loss = 0\n",
    "\n",
    "    for data in tqdm.tqdm(train_loader):\n",
    "        # data\n",
    "        graph_x = data.x.to(device)\n",
    "        global_x = data.glo_x.to(device)\n",
    "        edge_index = data.edge_index.to(device)\n",
    "        batch = data.batch.to(device)    \n",
    "        y = data.y.to(device)\n",
    "\n",
    "        embeddings = model.embedding_layer(graph_x, global_x, edge_index, batch)\n",
    "\n",
    "        # mixup\n",
    "        embeddings_mix, y_mix = mixup_embeddings(embeddings, y)\n",
    "\n",
    "        # prediction layer\n",
    "        predict = model.regression_layer(embeddings_mix)\n",
    "\n",
    "        # parameter update\n",
    "        optimizer.zero_grad()\n",
    "\n",
    "        loss = F.mse_loss(predict.squeeze(-1), y_mix.to(torch.float))\n",
    "        loss.backward()\n",
    "        optimizer.step()\n",
    "\n",
    "        total_loss += loss.item()\n",
    "    # scheduler.step()\n",
    "    print(f\"[Train Loss - Epoch: {epoch+1}]\\t{total_loss / len(train_loader):.5f}\")\n",
    "\n",
    "# model save\n",
    "torch.save(model.state_dict(), \"./parameter/gnn.pt\")"
   ]
  },
  {
   "cell_type": "markdown",
   "id": "026d5851-5ede-4209-a34a-b93f1316b9c7",
   "metadata": {},
   "source": [
    "## Test file gen."
   ]
  },
  {
   "cell_type": "code",
   "execution_count": 9,
   "id": "390e4503-f289-40d0-9d51-f9a306bc07e3",
   "metadata": {},
   "outputs": [
    {
     "name": "stderr",
     "output_type": "stream",
     "text": [
      "100%|██████████| 100/100 [00:00<00:00, 478.23it/s]\n"
     ]
    }
   ],
   "source": [
    "# test file gneneration\n",
    "test = pd.read_csv(\"./main_data/test.csv\")\n",
    "\n",
    "test_graphs = []\n",
    "for _, row in tqdm.tqdm(test.iterrows(), total=len(test)):\n",
    "    try: test_graphs.append(smiles_to_graph_data(row, False))\n",
    "    except: pass\n",
    "\n",
    "for data in test_graphs:\n",
    "    data.x = torch.tensor(normalize_node_features(data.x.cpu().numpy(), node_mean, node_std), dtype=torch.float32).to(data.x.device)\n",
    "    data.glo_x = torch.tensor(normalize_global_features(data.glo_x.cpu().numpy(), global_mean, global_std), dtype=torch.float32).to(data.glo_x.device)\n",
    "\n",
    "predicts = []\n",
    "model.eval()\n",
    "with torch.no_grad():\n",
    "    for data in test_graphs:\n",
    "\n",
    "        preds = model(\n",
    "                data.x.to(device), \n",
    "                data.glo_x.to(device),\n",
    "                data.edge_index.to(device),\n",
    "                torch.zeros(data.num_nodes, dtype=torch.long).to(device)\n",
    "            )\n",
    "\n",
    "        predicts.append(preds.item())\n",
    "\n",
    "# submission\n",
    "sub = pd.read_csv(\"./main_data/sample_submission.csv\")\n",
    "sub[\"Inhibition\"] = predicts\n",
    "\n",
    "sub.to_csv(\"./submission/submission_gnn.csv\", index=False)"
   ]
  }
 ],
 "metadata": {
  "kernelspec": {
   "display_name": "graph",
   "language": "python",
   "name": "graph"
  },
  "language_info": {
   "codemirror_mode": {
    "name": "ipython",
    "version": 3
   },
   "file_extension": ".py",
   "mimetype": "text/x-python",
   "name": "python",
   "nbconvert_exporter": "python",
   "pygments_lexer": "ipython3",
   "version": "3.12.2"
  }
 },
 "nbformat": 4,
 "nbformat_minor": 5
}
