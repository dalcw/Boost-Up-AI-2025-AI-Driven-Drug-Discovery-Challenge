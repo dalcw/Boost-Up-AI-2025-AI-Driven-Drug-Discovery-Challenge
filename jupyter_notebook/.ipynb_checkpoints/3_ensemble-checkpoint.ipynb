{
 "cells": [
  {
   "cell_type": "markdown",
   "id": "7ef2b720-a632-42f9-acc5-be1114e960c2",
   "metadata": {},
   "source": [
    "# Boost up AI 2025: 신약 개발 경진대회 (ensemble)\n",
    "- 참가팀: dalcw\n",
    "- 참가자: 문성수\n",
    "- 소속: 전남대학교(휴학)"
   ]
  },
  {
   "cell_type": "markdown",
   "id": "2f434f7e-1e14-4ba0-a7bb-63767b652174",
   "metadata": {},
   "source": [
    "## Install Library\n",
    "- pandas\n",
    "- numpy"
   ]
  },
  {
   "cell_type": "code",
   "execution_count": 1,
   "id": "bdbf6cc6-d23f-4619-85d6-34d1c6aa1574",
   "metadata": {},
   "outputs": [],
   "source": [
    "import pandas as pd\n",
    "import numpy as np"
   ]
  },
  {
   "cell_type": "code",
   "execution_count": 2,
   "id": "70bc6b47-084e-4cd9-b11c-d444ad6200c4",
   "metadata": {},
   "outputs": [],
   "source": [
    "h2o_prediction = pd.read_csv(\"submission/submission_h2o.csv\").Inhibition\n",
    "gnn_prediction = pd.read_csv(\"submission/submission_gnn.csv\").Inhibition\n",
    "\n",
    "# ensemble\n",
    "final_prediction = 0.9 * h2o_prediction + 0.1 * gnn_prediction\n",
    "\n",
    "sub = pd.read_csv(\"./main_data/sample_submission.csv\")\n",
    "sub[\"Inhibition\"] = final_prediction\n",
    "\n",
    "sub.to_csv(\"./submission/submission_ensembled.csv\", index=False)"
   ]
  }
 ],
 "metadata": {
  "kernelspec": {
   "display_name": "dacon2025",
   "language": "python",
   "name": "dacon"
  },
  "language_info": {
   "codemirror_mode": {
    "name": "ipython",
    "version": 3
   },
   "file_extension": ".py",
   "mimetype": "text/x-python",
   "name": "python",
   "nbconvert_exporter": "python",
   "pygments_lexer": "ipython3",
   "version": "3.12.2"
  }
 },
 "nbformat": 4,
 "nbformat_minor": 5
}
